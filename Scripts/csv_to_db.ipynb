{
 "cells": [
  {
   "cell_type": "code",
   "execution_count": 1,
   "id": "6921cc49",
   "metadata": {},
   "outputs": [],
   "source": [
    "import pandas as pd\n",
    "import sqlite3"
   ]
  },
  {
   "cell_type": "code",
   "execution_count": 2,
   "id": "9962f461",
   "metadata": {},
   "outputs": [],
   "source": [
    "cnx = sqlite3.connect(\"Historical_Fantasy_Stats.db\") #input Database Name\n",
    "cursor = cnx.cursor() # Creates Cursor if needed comment out"
   ]
  },
  {
   "cell_type": "code",
   "execution_count": 3,
   "id": "d5186b66",
   "metadata": {},
   "outputs": [],
   "source": [
    "df = pd.read_csv(\"/Users/robertburry/Desktop/Open-Sports-Data-NFL/Data/Combined Clean Historical Data/Fan_Point_Stats.csv\")"
   ]
  },
  {
   "cell_type": "code",
   "execution_count": 4,
   "id": "e3b70de8",
   "metadata": {},
   "outputs": [
    {
     "data": {
      "text/plain": [
       "5483"
      ]
     },
     "execution_count": 4,
     "metadata": {},
     "output_type": "execute_result"
    }
   ],
   "source": [
    "df.to_sql('Historical_Fantasy_Points', cnx, if_exists='replace', index = False) # Exports data to an SQL Lite Database"
   ]
  },
  {
   "cell_type": "code",
   "execution_count": 5,
   "id": "b6501f48",
   "metadata": {},
   "outputs": [],
   "source": [
    "cnx.close()"
   ]
  },
  {
   "cell_type": "code",
   "execution_count": null,
   "id": "f1a0422c",
   "metadata": {},
   "outputs": [],
   "source": []
  }
 ],
 "metadata": {
  "kernelspec": {
   "display_name": "Python 3.9.13 64-bit",
   "language": "python",
   "name": "python3"
  },
  "language_info": {
   "codemirror_mode": {
    "name": "ipython",
    "version": 3
   },
   "file_extension": ".py",
   "mimetype": "text/x-python",
   "name": "python",
   "nbconvert_exporter": "python",
   "pygments_lexer": "ipython3",
   "version": "3.9.13"
  },
  "vscode": {
   "interpreter": {
    "hash": "aee8b7b246df8f9039afb4144a1f6fd8d2ca17a180786b69acc140d282b71a49"
   }
  }
 },
 "nbformat": 4,
 "nbformat_minor": 5
}
