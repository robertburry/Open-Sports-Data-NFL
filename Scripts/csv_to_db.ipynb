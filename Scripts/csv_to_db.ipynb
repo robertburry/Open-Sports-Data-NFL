{
 "cells": [
  {
   "cell_type": "code",
   "execution_count": 1,
   "id": "6921cc49",
   "metadata": {},
   "outputs": [],
   "source": [
    "import pandas as pd\n",
    "import sqlite3"
   ]
  },
  {
   "cell_type": "code",
   "execution_count": 2,
   "id": "9962f461",
   "metadata": {},
   "outputs": [],
   "source": [
    "cnx = sqlite3.connect(\"Historical_Fantasy_Stats.db\") #input Database Name\n",
    "cursor = cnx.cursor() # Creates Cursor if needed comment out"
   ]
  },
  {
   "cell_type": "code",
   "execution_count": 3,
   "id": "d5186b66",
   "metadata": {},
   "outputs": [],
   "source": [
    "df = pd.read_csv(\"Stats_with_names.csv\")"
   ]
  },
  {
   "cell_type": "code",
   "execution_count": 4,
   "id": "e3b70de8",
   "metadata": {},
   "outputs": [],
   "source": [
    "df.to_sql('Stats_with_names', cnx, if_exists='replace', index = False) # Exports data to an SQL Lite Database"
   ]
  },
  {
   "cell_type": "code",
   "execution_count": 5,
   "id": "b6501f48",
   "metadata": {},
   "outputs": [],
   "source": [
    "cnx.close()"
   ]
  },
  {
   "cell_type": "code",
   "execution_count": null,
   "id": "f1a0422c",
   "metadata": {},
   "outputs": [],
   "source": []
  }
 ],
 "metadata": {
  "kernelspec": {
   "display_name": "Python 3",
   "language": "python",
   "name": "python3"
  },
  "language_info": {
   "codemirror_mode": {
    "name": "ipython",
    "version": 3
   },
   "file_extension": ".py",
   "mimetype": "text/x-python",
   "name": "python",
   "nbconvert_exporter": "python",
   "pygments_lexer": "ipython3",
   "version": "3.7.6"
  }
 },
 "nbformat": 4,
 "nbformat_minor": 5
}
