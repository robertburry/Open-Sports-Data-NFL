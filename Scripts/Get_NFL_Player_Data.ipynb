{
 "cells": [
  {
   "cell_type": "code",
   "execution_count": null,
   "id": "349141f3",
   "metadata": {},
   "outputs": [],
   "source": [
    "import nfl_data_py as nfl\n",
    "import pandas as pd\n",
    "import sqlite3\n",
    "import numpy as np"
   ]
  },
  {
   "cell_type": "code",
   "execution_count": null,
   "id": "92ed793d",
   "metadata": {},
   "outputs": [],
   "source": [
    "cnx = sqlite3.connect(\"Player_Info.db\") #input Database Name\n",
    "cursor = cnx.cursor() # Creates Cursor if needed comment out"
   ]
  },
  {
   "cell_type": "code",
   "execution_count": null,
   "id": "950774ae",
   "metadata": {},
   "outputs": [],
   "source": [
    "years = np.arange(2010,2021, 1).tolist() #gives years interested in, in a list. \n",
    "\n",
    "import_columns = ['name',\n",
    " 'merge_name',\n",
    " 'position',\n",
    " 'team',\n",
    " 'birthdate',\n",
    " 'age',\n",
    " 'draft_year',\n",
    " 'draft_round',\n",
    " 'draft_pick',\n",
    " 'draft_ovr',\n",
    " 'height',\n",
    " 'weight',\n",
    " 'college',\n",
    " 'db_season']\n",
    "\n",
    "#Columns to import\n",
    "\n",
    "id_columns = ['gsis_id',\n",
    " 'name',\n",
    " 'merge_name',\n",
    " 'position',\n",
    " 'team',\n",
    " 'birthdate',\n",
    " 'age',\n",
    " 'draft_year',\n",
    " 'draft_round',\n",
    " 'draft_pick',\n",
    " 'draft_ovr',\n",
    " 'height',\n",
    " 'weight',\n",
    " 'college',\n",
    " 'db_season']\n",
    "\n",
    "#Columns to have within the Databse"
   ]
  },
  {
   "cell_type": "code",
   "execution_count": null,
   "id": "c451ed98",
   "metadata": {},
   "outputs": [],
   "source": [
    "ids = nfl.import_ids(import_columns, ['gsis']) #Calls NFL Package and creates a pandas dataframe\n",
    "\n",
    "ids=ids[id_columns] #Makes sure the columns are in the order you want"
   ]
  },
  {
   "cell_type": "code",
   "execution_count": null,
   "id": "87e6deeb",
   "metadata": {},
   "outputs": [],
   "source": [
    "player_info = ids[ids['gsis_id'].notna()]"
   ]
  },
  {
   "cell_type": "code",
   "execution_count": null,
   "id": "52b181c0",
   "metadata": {},
   "outputs": [],
   "source": [
    "player_info.reset_index(drop=True, inplace=True) \n",
    "\n",
    "# Reindex due to Pandas DataFrame dropping. Could also reindex on player ID, but decided not to."
   ]
  },
  {
   "cell_type": "code",
   "execution_count": null,
   "id": "d6d8d7f0",
   "metadata": {},
   "outputs": [],
   "source": [
    "player_info.rename(columns ={'gsis_id':'player_id'}, inplace = True) #Rename gsis_id to Player_ID"
   ]
  },
  {
   "cell_type": "code",
   "execution_count": null,
   "id": "826a56e9",
   "metadata": {},
   "outputs": [],
   "source": [
    "player_info"
   ]
  },
  {
   "cell_type": "code",
   "execution_count": null,
   "id": "21fb3b2f",
   "metadata": {},
   "outputs": [],
   "source": [
    "player_info.to_sql('Player_Info', cnx, if_exists='replace', index = False) # Exports data to an SQL Lite Database"
   ]
  },
  {
   "cell_type": "code",
   "execution_count": null,
   "id": "ae25ab5d",
   "metadata": {},
   "outputs": [],
   "source": [
    "cursor.close()\n",
    "cnx.close()   \n",
    "\n",
    "#Closes Connection to DataBase"
   ]
  }
 ],
 "metadata": {
  "kernelspec": {
   "display_name": "Python 3.9.13 64-bit",
   "language": "python",
   "name": "python3"
  },
  "language_info": {
   "codemirror_mode": {
    "name": "ipython",
    "version": 3
   },
   "file_extension": ".py",
   "mimetype": "text/x-python",
   "name": "python",
   "nbconvert_exporter": "python",
   "pygments_lexer": "ipython3",
   "version": "3.9.13"
  },
  "vscode": {
   "interpreter": {
    "hash": "aee8b7b246df8f9039afb4144a1f6fd8d2ca17a180786b69acc140d282b71a49"
   }
  }
 },
 "nbformat": 4,
 "nbformat_minor": 5
}
