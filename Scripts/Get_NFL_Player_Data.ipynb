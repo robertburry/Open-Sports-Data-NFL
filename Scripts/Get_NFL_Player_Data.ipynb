{
 "cells": [
  {
   "cell_type": "markdown",
   "id": "13f95190",
   "metadata": {},
   "source": [
    "# Dependencies"
   ]
  },
  {
   "cell_type": "code",
   "execution_count": 15,
   "id": "349141f3",
   "metadata": {},
   "outputs": [],
   "source": [
    "import nfl_data_py as nfl\n",
    "import pandas as pd\n",
    "import sqlite3 as sql\n",
    "import numpy as np"
   ]
  },
  {
   "cell_type": "markdown",
   "id": "123154f9",
   "metadata": {},
   "source": [
    "# Open SQL Connection"
   ]
  },
  {
   "cell_type": "code",
   "execution_count": 16,
   "id": "92ed793d",
   "metadata": {},
   "outputs": [],
   "source": [
    "cnx = sql.connect(\"Player_Info.db\") #input Database Name\n",
    "cursor = cnx.cursor() # Creates Cursor if needed comment out"
   ]
  },
  {
   "cell_type": "markdown",
   "id": "f72a5ce1",
   "metadata": {},
   "source": [
    "# Import Data"
   ]
  },
  {
   "cell_type": "markdown",
   "id": "5e82712f",
   "metadata": {},
   "source": [
    "### Data Type information"
   ]
  },
  {
   "cell_type": "code",
   "execution_count": 17,
   "id": "29904684",
   "metadata": {},
   "outputs": [],
   "source": [
    "# Here we are declaring the columns to request from the package NFL_data_py. Then doing some manipulation\n",
    "# so that the dataframe and subsequent database is cleaner without the need of much user manipulation. \n",
    "# These Database will eventually have the following data types:\n",
    "#\n",
    "# - player_id         (Type: int64)\n",
    "# - name              (Type: object) \n",
    "# - merge_name        (Type: object) \n",
    "# - position          (Type: object) \n",
    "# - team              (Type: object) \n",
    "# - birthdate         (Type: object) \n",
    "# - age               (Type: float64) \n",
    "# - draft_year        (Type: float64) \n",
    "# - draft_round       (Type: float64) \n",
    "# - draft_pick        (Type: float64) \n",
    "# - draft_ovr         (Type: float64) \n",
    "# - height            (Type: float64) \n",
    "# - weight            (Type: float64) \n",
    "# - college           (Type: object) \n",
    "# - db_season         (Type: int64) \n"
   ]
  },
  {
   "cell_type": "markdown",
   "id": "ff1b3ab4",
   "metadata": {},
   "source": [
    "### Getting Data"
   ]
  },
  {
   "cell_type": "code",
   "execution_count": 18,
   "id": "950774ae",
   "metadata": {},
   "outputs": [],
   "source": [
    "import_columns = ['name',\n",
    " 'merge_name',\n",
    " 'position',\n",
    " 'team',\n",
    " 'birthdate',\n",
    " 'age',\n",
    " 'draft_year',\n",
    " 'draft_round',\n",
    " 'draft_pick',\n",
    " 'draft_ovr',\n",
    " 'height',\n",
    " 'weight',\n",
    " 'college',\n",
    " 'db_season']\n",
    "\n",
    "\n",
    "id_columns = ['gsis_id',\n",
    " 'name',\n",
    " 'merge_name',\n",
    " 'position',\n",
    " 'team',\n",
    " 'birthdate',\n",
    " 'age',\n",
    " 'draft_year',\n",
    " 'draft_round',\n",
    " 'draft_pick',\n",
    " 'draft_ovr',\n",
    " 'height',\n",
    " 'weight',\n",
    " 'college',\n",
    " 'db_season']\n",
    "\n",
    "#Columns to have within the Databse"
   ]
  },
  {
   "cell_type": "code",
   "execution_count": 19,
   "id": "c451ed98",
   "metadata": {},
   "outputs": [
    {
     "name": "stderr",
     "output_type": "stream",
     "text": [
      "/usr/local/lib/python3.9/site-packages/nfl_data_py/__init__.py:631: FutureWarning: Passing a set as an indexer is deprecated and will raise in a future version. Use a list instead.\n",
      "  df = df[set(tgt_ids + columns)]\n"
     ]
    }
   ],
   "source": [
    "ids = nfl.import_ids(import_columns, ['gsis']) \n",
    "\n",
    "ids=ids[id_columns]"
   ]
  },
  {
   "cell_type": "code",
   "execution_count": 20,
   "id": "87e6deeb",
   "metadata": {},
   "outputs": [],
   "source": [
    "player_info = ids[ids['gsis_id'].notna()]"
   ]
  },
  {
   "cell_type": "code",
   "execution_count": 21,
   "id": "52b181c0",
   "metadata": {},
   "outputs": [],
   "source": [
    "# Reindex due to Pandas DataFrame dropping. Could also reindex on player ID, but decided not to.\n",
    "\n",
    "player_info.reset_index(drop=True, inplace=True) "
   ]
  },
  {
   "cell_type": "code",
   "execution_count": 22,
   "id": "d6d8d7f0",
   "metadata": {},
   "outputs": [
    {
     "name": "stderr",
     "output_type": "stream",
     "text": [
      "/var/folders/7x/pqcbs3jx7llff4t8mk23jkmh0000gn/T/ipykernel_28464/213351557.py:1: SettingWithCopyWarning: \n",
      "A value is trying to be set on a copy of a slice from a DataFrame\n",
      "\n",
      "See the caveats in the documentation: https://pandas.pydata.org/pandas-docs/stable/user_guide/indexing.html#returning-a-view-versus-a-copy\n",
      "  player_info.rename(columns ={'gsis_id':'player_id'}, inplace = True)\n"
     ]
    }
   ],
   "source": [
    "player_info.rename(columns ={'gsis_id':'player_id'}, inplace = True)"
   ]
  },
  {
   "cell_type": "code",
   "execution_count": 23,
   "id": "33125b50",
   "metadata": {},
   "outputs": [
    {
     "name": "stderr",
     "output_type": "stream",
     "text": [
      "/var/folders/7x/pqcbs3jx7llff4t8mk23jkmh0000gn/T/ipykernel_28464/4175616041.py:4: SettingWithCopyWarning: \n",
      "A value is trying to be set on a copy of a slice from a DataFrame.\n",
      "Try using .loc[row_indexer,col_indexer] = value instead\n",
      "\n",
      "See the caveats in the documentation: https://pandas.pydata.org/pandas-docs/stable/user_guide/indexing.html#returning-a-view-versus-a-copy\n",
      "  player_info['player_id'] = player_info['player_id'].astype(str).apply(lambda x: x.replace('-', '')).astype(int)\n"
     ]
    },
    {
     "data": {
      "text/html": [
       "<div>\n",
       "<style scoped>\n",
       "    .dataframe tbody tr th:only-of-type {\n",
       "        vertical-align: middle;\n",
       "    }\n",
       "\n",
       "    .dataframe tbody tr th {\n",
       "        vertical-align: top;\n",
       "    }\n",
       "\n",
       "    .dataframe thead th {\n",
       "        text-align: right;\n",
       "    }\n",
       "</style>\n",
       "<table border=\"1\" class=\"dataframe\">\n",
       "  <thead>\n",
       "    <tr style=\"text-align: right;\">\n",
       "      <th></th>\n",
       "      <th>player_id</th>\n",
       "      <th>name</th>\n",
       "      <th>merge_name</th>\n",
       "      <th>position</th>\n",
       "      <th>team</th>\n",
       "      <th>birthdate</th>\n",
       "      <th>age</th>\n",
       "      <th>draft_year</th>\n",
       "      <th>draft_round</th>\n",
       "      <th>draft_pick</th>\n",
       "      <th>draft_ovr</th>\n",
       "      <th>height</th>\n",
       "      <th>weight</th>\n",
       "      <th>college</th>\n",
       "      <th>db_season</th>\n",
       "    </tr>\n",
       "  </thead>\n",
       "  <tbody>\n",
       "    <tr>\n",
       "      <th>0</th>\n",
       "      <td>36971</td>\n",
       "      <td>Trevor Lawrence</td>\n",
       "      <td>trevor lawrence</td>\n",
       "      <td>QB</td>\n",
       "      <td>JAC</td>\n",
       "      <td>1999-10-06</td>\n",
       "      <td>22.8</td>\n",
       "      <td>2021.0</td>\n",
       "      <td>1.0</td>\n",
       "      <td>1.0</td>\n",
       "      <td>1.0</td>\n",
       "      <td>78.0</td>\n",
       "      <td>220.0</td>\n",
       "      <td>Clemson</td>\n",
       "      <td>2022</td>\n",
       "    </tr>\n",
       "    <tr>\n",
       "      <th>1</th>\n",
       "      <td>36945</td>\n",
       "      <td>Justin Fields</td>\n",
       "      <td>justin fields</td>\n",
       "      <td>QB</td>\n",
       "      <td>CHI</td>\n",
       "      <td>1999-03-05</td>\n",
       "      <td>23.4</td>\n",
       "      <td>2021.0</td>\n",
       "      <td>1.0</td>\n",
       "      <td>11.0</td>\n",
       "      <td>11.0</td>\n",
       "      <td>75.0</td>\n",
       "      <td>228.0</td>\n",
       "      <td>Ohio State</td>\n",
       "      <td>2022</td>\n",
       "    </tr>\n",
       "    <tr>\n",
       "      <th>2</th>\n",
       "      <td>37013</td>\n",
       "      <td>Zach Wilson</td>\n",
       "      <td>zach wilson</td>\n",
       "      <td>QB</td>\n",
       "      <td>NYJ</td>\n",
       "      <td>1999-08-03</td>\n",
       "      <td>23.0</td>\n",
       "      <td>2021.0</td>\n",
       "      <td>1.0</td>\n",
       "      <td>2.0</td>\n",
       "      <td>2.0</td>\n",
       "      <td>75.0</td>\n",
       "      <td>210.0</td>\n",
       "      <td>Brigham Young</td>\n",
       "      <td>2022</td>\n",
       "    </tr>\n",
       "    <tr>\n",
       "      <th>3</th>\n",
       "      <td>37012</td>\n",
       "      <td>Trey Lance</td>\n",
       "      <td>trey lance</td>\n",
       "      <td>QB</td>\n",
       "      <td>SFO</td>\n",
       "      <td>2000-05-12</td>\n",
       "      <td>22.2</td>\n",
       "      <td>2021.0</td>\n",
       "      <td>1.0</td>\n",
       "      <td>3.0</td>\n",
       "      <td>3.0</td>\n",
       "      <td>76.0</td>\n",
       "      <td>226.0</td>\n",
       "      <td>North Dakota State</td>\n",
       "      <td>2022</td>\n",
       "    </tr>\n",
       "    <tr>\n",
       "      <th>4</th>\n",
       "      <td>36972</td>\n",
       "      <td>Mac Jones</td>\n",
       "      <td>mac jones</td>\n",
       "      <td>QB</td>\n",
       "      <td>NEP</td>\n",
       "      <td>1998-09-05</td>\n",
       "      <td>23.9</td>\n",
       "      <td>2021.0</td>\n",
       "      <td>1.0</td>\n",
       "      <td>15.0</td>\n",
       "      <td>15.0</td>\n",
       "      <td>75.0</td>\n",
       "      <td>214.0</td>\n",
       "      <td>Alabama</td>\n",
       "      <td>2022</td>\n",
       "    </tr>\n",
       "  </tbody>\n",
       "</table>\n",
       "</div>"
      ],
      "text/plain": [
       "   player_id             name       merge_name position team   birthdate  \\\n",
       "0      36971  Trevor Lawrence  trevor lawrence       QB  JAC  1999-10-06   \n",
       "1      36945    Justin Fields    justin fields       QB  CHI  1999-03-05   \n",
       "2      37013      Zach Wilson      zach wilson       QB  NYJ  1999-08-03   \n",
       "3      37012       Trey Lance       trey lance       QB  SFO  2000-05-12   \n",
       "4      36972        Mac Jones        mac jones       QB  NEP  1998-09-05   \n",
       "\n",
       "    age  draft_year  draft_round  draft_pick  draft_ovr  height  weight  \\\n",
       "0  22.8      2021.0          1.0         1.0        1.0    78.0   220.0   \n",
       "1  23.4      2021.0          1.0        11.0       11.0    75.0   228.0   \n",
       "2  23.0      2021.0          1.0         2.0        2.0    75.0   210.0   \n",
       "3  22.2      2021.0          1.0         3.0        3.0    76.0   226.0   \n",
       "4  23.9      2021.0          1.0        15.0       15.0    75.0   214.0   \n",
       "\n",
       "              college  db_season  \n",
       "0             Clemson       2022  \n",
       "1          Ohio State       2022  \n",
       "2       Brigham Young       2022  \n",
       "3  North Dakota State       2022  \n",
       "4             Alabama       2022  "
      ]
     },
     "execution_count": 23,
     "metadata": {},
     "output_type": "execute_result"
    }
   ],
   "source": [
    "# Removing the `-` in the player_id column that is added by default from the nfl_data package. Changing type to int which \n",
    "# will help us with comparison in later steps. \n",
    "\n",
    "player_info['player_id'] = player_info['player_id'].astype(str).apply(lambda x: x.replace('-', '')).astype(int)\n",
    "player_info.head()"
   ]
  },
  {
   "cell_type": "markdown",
   "id": "d79f4877",
   "metadata": {},
   "source": [
    "# Output data to an SQL Database"
   ]
  },
  {
   "cell_type": "code",
   "execution_count": 24,
   "id": "21fb3b2f",
   "metadata": {},
   "outputs": [
    {
     "data": {
      "text/plain": [
       "3674"
      ]
     },
     "execution_count": 24,
     "metadata": {},
     "output_type": "execute_result"
    }
   ],
   "source": [
    "player_info.to_sql('Player_Info', cnx, if_exists='replace', index = False) # Exports data to an SQL Lite Database"
   ]
  },
  {
   "cell_type": "markdown",
   "id": "74cee718",
   "metadata": {},
   "source": [
    "# Close SQL Connection"
   ]
  },
  {
   "cell_type": "code",
   "execution_count": 25,
   "id": "ae25ab5d",
   "metadata": {},
   "outputs": [],
   "source": [
    "cursor.close()\n",
    "cnx.close()   \n",
    "\n",
    "#Closes Connection to DataBase"
   ]
  }
 ],
 "metadata": {
  "kernelspec": {
   "display_name": "Python 3.9.13 64-bit",
   "language": "python",
   "name": "python3"
  },
  "language_info": {
   "codemirror_mode": {
    "name": "ipython",
    "version": 3
   },
   "file_extension": ".py",
   "mimetype": "text/x-python",
   "name": "python",
   "nbconvert_exporter": "python",
   "pygments_lexer": "ipython3",
   "version": "3.9.13"
  },
  "vscode": {
   "interpreter": {
    "hash": "aee8b7b246df8f9039afb4144a1f6fd8d2ca17a180786b69acc140d282b71a49"
   }
  }
 },
 "nbformat": 4,
 "nbformat_minor": 5
}
