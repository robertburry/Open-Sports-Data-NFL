{
 "cells": [
  {
   "cell_type": "code",
   "execution_count": null,
   "id": "c3a75b72",
   "metadata": {},
   "outputs": [],
   "source": [
    "import nfl_data_py as nfl\n",
    "import pandas as pd\n",
    "import sqlite3\n",
    "import numpy as np "
   ]
  },
  {
   "cell_type": "code",
   "execution_count": null,
   "id": "7248beb3",
   "metadata": {},
   "outputs": [],
   "source": [
    "cnx = sqlite3.connect('NFL_2010-2021_Data.db') #input Database Name\n",
    "cursor = cnx.cursor() # Creates Cursor if needed comment out"
   ]
  },
  {
   "cell_type": "code",
   "execution_count": null,
   "id": "948e3960",
   "metadata": {},
   "outputs": [],
   "source": [
    "years = np.arange(2010,2021, 1).tolist() #gives years interested in, in a list. "
   ]
  },
  {
   "cell_type": "code",
   "execution_count": null,
   "id": "c3593e33",
   "metadata": {},
   "outputs": [],
   "source": [
    "nfl_data = nfl.import_seasonal_data(years)"
   ]
  },
  {
   "cell_type": "code",
   "execution_count": null,
   "id": "a769b644",
   "metadata": {},
   "outputs": [],
   "source": [
    "nfl_data"
   ]
  },
  {
   "cell_type": "code",
   "execution_count": null,
   "id": "da1fab35",
   "metadata": {},
   "outputs": [],
   "source": [
    "nfl_data.to_sql(\"NFL_2010-2021_Data.db\",cnx, if_exists='replace', index= False) # Exports data to an SQL Lite Database"
   ]
  },
  {
   "cell_type": "code",
   "execution_count": null,
   "id": "de35ad10",
   "metadata": {},
   "outputs": [],
   "source": [
    "cursor.close()\n",
    "cnx.close()   \n",
    "\n",
    "#Closes Connection to DataBase"
   ]
  }
 ],
 "metadata": {
  "kernelspec": {
   "display_name": "Python 3.9.13 64-bit",
   "language": "python",
   "name": "python3"
  },
  "language_info": {
   "codemirror_mode": {
    "name": "ipython",
    "version": 3
   },
   "file_extension": ".py",
   "mimetype": "text/x-python",
   "name": "python",
   "nbconvert_exporter": "python",
   "pygments_lexer": "ipython3",
   "version": "3.9.13"
  },
  "vscode": {
   "interpreter": {
    "hash": "aee8b7b246df8f9039afb4144a1f6fd8d2ca17a180786b69acc140d282b71a49"
   }
  }
 },
 "nbformat": 4,
 "nbformat_minor": 5
}
